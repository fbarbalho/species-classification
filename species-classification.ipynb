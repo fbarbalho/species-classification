{
  "cells": [
    {
      "metadata": {
        "_cell_guid": "b1076dfc-b9ad-4769-8c92-a6c4dae69d19",
        "_uuid": "8f2839f25d086af736a60e9eeb907d3b93b6e0e5",
        "trusted": true
      },
      "cell_type": "code",
      "source": "# This Python 3 environment comes with many helpful analytics libraries installed\n# It is defined by the kaggle/python docker image: https://github.com/kaggle/docker-python\n# For example, here's several helpful packages to load in \n\nimport numpy as np # linear algebra\nimport pandas as pd # data processing, CSV file I/O (e.g. pd.read_csv)\nimport matplotlib.pyplot as plt\n%matplotlib inline\nimport seaborn as sns\n\n# Set style\nsns.set_style(\"ticks\")\n# Input data files are available in the \"../input/\" directory.\n# For example, running this (by clicking run or pressing Shift+Enter) will list the files in the input directory\n\nimport os\nprint(os.listdir(\"../input\"))\n\n# Any results you write to the current directory are saved as output.",
      "execution_count": 2,
      "outputs": [
        {
          "output_type": "stream",
          "text": "['Iris.csv', 'database.sqlite']\n",
          "name": "stdout"
        }
      ]
    },
    {
      "metadata": {
        "_cell_guid": "275459b6-0459-4905-a966-1988727e3e43",
        "_uuid": "715c6fb85ff3fefbe3d21b887c10991b5bd76551"
      },
      "cell_type": "markdown",
      "source": "### Nossa meta será treinar o algoritmo KNN de forma que ele consigar distinguir as espécies de acordo com as características das mesmas."
    },
    {
      "metadata": {
        "_cell_guid": "98ba2993-b503-4bd9-a481-e79b1a5f502d",
        "collapsed": true,
        "_uuid": "31761e4e133be9c452ca49e829975e9a1453ba0c",
        "trusted": true
      },
      "cell_type": "code",
      "source": "# Importa o dataset \ndata = pd.read_csv('../input/Iris.csv')",
      "execution_count": 3,
      "outputs": []
    },
    {
      "metadata": {
        "_cell_guid": "bc4c3818-6fd8-4220-a098-616bd3f30a82",
        "_uuid": "e22934c19cdedb2e78dd7066699275c31bb13002",
        "trusted": true
      },
      "cell_type": "code",
      "source": "# Visualiza 10 linhas aleatorios do dataset\ndata.sample(10)",
      "execution_count": 4,
      "outputs": [
        {
          "output_type": "execute_result",
          "execution_count": 4,
          "data": {
            "text/plain": "      Id  SepalLengthCm  SepalWidthCm  PetalLengthCm  PetalWidthCm  \\\n91    92            6.1           3.0            4.6           1.4   \n59    60            5.2           2.7            3.9           1.4   \n112  113            6.8           3.0            5.5           2.1   \n108  109            6.7           2.5            5.8           1.8   \n141  142            6.9           3.1            5.1           2.3   \n145  146            6.7           3.0            5.2           2.3   \n43    44            5.0           3.5            1.6           0.6   \n61    62            5.9           3.0            4.2           1.5   \n103  104            6.3           2.9            5.6           1.8   \n74    75            6.4           2.9            4.3           1.3   \n\n             Species  \n91   Iris-versicolor  \n59   Iris-versicolor  \n112   Iris-virginica  \n108   Iris-virginica  \n141   Iris-virginica  \n145   Iris-virginica  \n43       Iris-setosa  \n61   Iris-versicolor  \n103   Iris-virginica  \n74   Iris-versicolor  ",
            "text/html": "<div>\n<style scoped>\n    .dataframe tbody tr th:only-of-type {\n        vertical-align: middle;\n    }\n\n    .dataframe tbody tr th {\n        vertical-align: top;\n    }\n\n    .dataframe thead th {\n        text-align: right;\n    }\n</style>\n<table border=\"1\" class=\"dataframe\">\n  <thead>\n    <tr style=\"text-align: right;\">\n      <th></th>\n      <th>Id</th>\n      <th>SepalLengthCm</th>\n      <th>SepalWidthCm</th>\n      <th>PetalLengthCm</th>\n      <th>PetalWidthCm</th>\n      <th>Species</th>\n    </tr>\n  </thead>\n  <tbody>\n    <tr>\n      <th>91</th>\n      <td>92</td>\n      <td>6.1</td>\n      <td>3.0</td>\n      <td>4.6</td>\n      <td>1.4</td>\n      <td>Iris-versicolor</td>\n    </tr>\n    <tr>\n      <th>59</th>\n      <td>60</td>\n      <td>5.2</td>\n      <td>2.7</td>\n      <td>3.9</td>\n      <td>1.4</td>\n      <td>Iris-versicolor</td>\n    </tr>\n    <tr>\n      <th>112</th>\n      <td>113</td>\n      <td>6.8</td>\n      <td>3.0</td>\n      <td>5.5</td>\n      <td>2.1</td>\n      <td>Iris-virginica</td>\n    </tr>\n    <tr>\n      <th>108</th>\n      <td>109</td>\n      <td>6.7</td>\n      <td>2.5</td>\n      <td>5.8</td>\n      <td>1.8</td>\n      <td>Iris-virginica</td>\n    </tr>\n    <tr>\n      <th>141</th>\n      <td>142</td>\n      <td>6.9</td>\n      <td>3.1</td>\n      <td>5.1</td>\n      <td>2.3</td>\n      <td>Iris-virginica</td>\n    </tr>\n    <tr>\n      <th>145</th>\n      <td>146</td>\n      <td>6.7</td>\n      <td>3.0</td>\n      <td>5.2</td>\n      <td>2.3</td>\n      <td>Iris-virginica</td>\n    </tr>\n    <tr>\n      <th>43</th>\n      <td>44</td>\n      <td>5.0</td>\n      <td>3.5</td>\n      <td>1.6</td>\n      <td>0.6</td>\n      <td>Iris-setosa</td>\n    </tr>\n    <tr>\n      <th>61</th>\n      <td>62</td>\n      <td>5.9</td>\n      <td>3.0</td>\n      <td>4.2</td>\n      <td>1.5</td>\n      <td>Iris-versicolor</td>\n    </tr>\n    <tr>\n      <th>103</th>\n      <td>104</td>\n      <td>6.3</td>\n      <td>2.9</td>\n      <td>5.6</td>\n      <td>1.8</td>\n      <td>Iris-virginica</td>\n    </tr>\n    <tr>\n      <th>74</th>\n      <td>75</td>\n      <td>6.4</td>\n      <td>2.9</td>\n      <td>4.3</td>\n      <td>1.3</td>\n      <td>Iris-versicolor</td>\n    </tr>\n  </tbody>\n</table>\n</div>"
          },
          "metadata": {}
        }
      ]
    },
    {
      "metadata": {
        "_cell_guid": "1c00010a-5950-4c0d-85fc-29929153647b",
        "_uuid": "072e2665fbb65a5493a1682be9ee44dff11767cb"
      },
      "cell_type": "markdown",
      "source": "### # Sepal Width vs. Sepal Length"
    },
    {
      "metadata": {
        "_cell_guid": "b2e396e8-ca7b-4118-8a42-7a98f6575d16",
        "_uuid": "05af34b4d78e6198ce764394e07e73fbcf5cca7d",
        "trusted": true
      },
      "cell_type": "code",
      "source": "# SUbplot\n#fig, ax =plt.subplots(1,2)\n\n# Plota um scatterplot a partir da function lmplot do seaborn \n# O atributo fit_reg = false plota o gráfico sem a linha de regressão\nsns.lmplot(x=\"SepalLengthCm\", y=\"SepalWidthCm\", data=data, fit_reg=False, legend=False,hue='Species')\n\n# Posiciona a legenda para uma area vazia do gráfico \nplt.legend(loc='lower right')",
      "execution_count": 5,
      "outputs": [
        {
          "output_type": "execute_result",
          "execution_count": 5,
          "data": {
            "text/plain": "<matplotlib.legend.Legend at 0x7f6c21565940>"
          },
          "metadata": {}
        },
        {
          "output_type": "display_data",
          "data": {
            "text/plain": "<matplotlib.figure.Figure at 0x7f6c21565f28>",
            "image/png": "[encoded data removed]"
          },
          "metadata": {}
        }
      ]
    },
    {
      "metadata": {
        "_cell_guid": "ed005c83-3ed8-4397-b8bc-4f9347ac2998",
        "collapsed": true,
        "_uuid": "3263d7d7fbf34512979d1a3b29b2eefa751b29b3"
      },
      "cell_type": "markdown",
      "source": "### # Petal Width vs. Petal Length"
    },
    {
      "metadata": {
        "_cell_guid": "3d248c62-1c04-45eb-83f3-9b08e5424e24",
        "_uuid": "47c77ced596dd2cbec78f43cabd4980b3b20d612",
        "trusted": true
      },
      "cell_type": "code",
      "source": "# Plota um scatterplot a partir da function lmplot do seaborn \n# O atributo fit_reg = false plota o gráfico sem a linha de regressão\nsns.lmplot(x=\"PetalLengthCm\", y=\"PetalWidthCm\", data=data, fit_reg=False, legend=False,hue='Species')\n\n# Posiciona a legenda para uma area vazia do gráfico \nplt.legend(loc='lower right')",
      "execution_count": 6,
      "outputs": [
        {
          "output_type": "execute_result",
          "execution_count": 6,
          "data": {
            "text/plain": "<matplotlib.legend.Legend at 0x7f6c2153dd30>"
          },
          "metadata": {}
        },
        {
          "output_type": "display_data",
          "data": {
            "text/plain": "<matplotlib.figure.Figure at 0x7f6c1dbc0710>",
            "image/png": "[encoded data removed]"
          },
          "metadata": {}
        }
      ]
    },
    {
      "metadata": {
        "_cell_guid": "4c400434-2496-4406-a96d-d3c1e5e6f5e4",
        "_uuid": "ba745355e484105719a892b5470ea9cde67a2847",
        "trusted": true
      },
      "cell_type": "code",
      "source": "from sklearn.cross_validation import train_test_split",
      "execution_count": 7,
      "outputs": [
        {
          "output_type": "stream",
          "text": "/opt/conda/lib/python3.6/site-packages/sklearn/cross_validation.py:41: DeprecationWarning: This module was deprecated in version 0.18 in favor of the model_selection module into which all the refactored classes and functions are moved. Also note that the interface of the new CV iterators are different from that of this module. This module will be removed in 0.20.\n  \"This module will be removed in 0.20.\", DeprecationWarning)\n",
          "name": "stderr"
        }
      ]
    },
    {
      "metadata": {
        "_cell_guid": "eb898de3-8b07-4de3-b6a0-93fc01628f1b",
        "collapsed": true,
        "_uuid": "c9efcb2558d59f397e1208800e73c64f1cd848a9",
        "trusted": true
      },
      "cell_type": "code",
      "source": "# Cria matrizes de dados para target e predictors  \nX = np.array(data.drop(columns = ['Id','Species'])) \ny = np.array(data['Species']) ",
      "execution_count": 8,
      "outputs": []
    },
    {
      "metadata": {
        "_cell_guid": "6dfae888-cb84-4a0d-a837-e61c237119e1",
        "collapsed": true,
        "_uuid": "ca91ba7c5b7fbc035481620d10e149d1ab3a38ac",
        "trusted": true
      },
      "cell_type": "code",
      "source": "# separa os dados de treino e teste\nX_train, X_test, y_train, y_test = train_test_split(X, y, test_size=0.33, random_state=42)",
      "execution_count": 9,
      "outputs": []
    },
    {
      "metadata": {
        "_cell_guid": "e075dd77-c088-452d-a9a6-c708d4d81faf",
        "_uuid": "292225452bd28919cf62c5665a9149ca301a2a14"
      },
      "cell_type": "markdown",
      "source": "### Fit KNN Model"
    },
    {
      "metadata": {
        "_cell_guid": "3a0ad5fd-e34c-4d03-80d4-236b56aece38",
        "_uuid": "bd6018d19bfba368b5489dba5653957fffe2fec0",
        "trusted": true
      },
      "cell_type": "code",
      "source": "# Carrega biblioteca\nfrom sklearn.neighbors import KNeighborsClassifier\nfrom sklearn.metrics import accuracy_score\n\n# Instancia um modelo (k = 3)\nknn = KNeighborsClassifier(n_neighbors=3)\n\n# Fit Model\nknn.fit(X_train, y_train)\n\n# prevê a specie\npred = knn.predict(X_test)\n\n# Avalia acuracia\naccuracy_score(y_test,pred)\n",
      "execution_count": 18,
      "outputs": [
        {
          "output_type": "execute_result",
          "execution_count": 18,
          "data": {
            "text/plain": "0.98"
          },
          "metadata": {}
        }
      ]
    },
    {
      "metadata": {
        "_cell_guid": "02d93525-ba62-424f-9494-27f1f9fbfb54",
        "_uuid": "9e55e4499cf8853154d9472a66d6e0342d99e968",
        "trusted": true
      },
      "cell_type": "code",
      "source": "# Matriz de confusão\nfrom sklearn.metrics import confusion_matrix\nconfusion_matrix(y_test, pred)",
      "execution_count": 19,
      "outputs": [
        {
          "output_type": "execute_result",
          "execution_count": 19,
          "data": {
            "text/plain": "array([[19,  0,  0],\n       [ 0, 15,  0],\n       [ 0,  1, 15]])"
          },
          "metadata": {}
        }
      ]
    },
    {
      "metadata": {
        "_cell_guid": "9731b049-6624-4608-8adc-35ef4504c78a",
        "_uuid": "83fb560404b5e7248a3083973f3eb4dfd0c5ef8a",
        "trusted": false
      },
      "cell_type": "markdown",
      "source": "### SVC\n"
    },
    {
      "metadata": {
        "_cell_guid": "5fc7bff5-4c15-44da-81c4-ee29971ad2b4",
        "_uuid": "0065227372c5355f760e303504bd5dad624cc946",
        "trusted": true
      },
      "cell_type": "code",
      "source": "from sklearn.svm import SVC\nclf = SVC()\nclf.fit(X_train, y_train) \n\n# prevê a specie\npred = clf.predict(X_test)\n\n# Avalia acuracia\naccuracy_score(y_test,pred)\n",
      "execution_count": 20,
      "outputs": [
        {
          "output_type": "execute_result",
          "execution_count": 20,
          "data": {
            "text/plain": "1.0"
          },
          "metadata": {}
        }
      ]
    },
    {
      "metadata": {
        "_cell_guid": "586e3545-9f0b-41b6-8707-0af06be2ea7c",
        "_uuid": "976d281afabfc31d080bd45181595d12ca91a982",
        "trusted": true
      },
      "cell_type": "code",
      "source": "# Matriz de confusão\nfrom sklearn.metrics import confusion_matrix\nconfusion_matrix(y_test, pred)",
      "execution_count": 21,
      "outputs": [
        {
          "output_type": "execute_result",
          "execution_count": 21,
          "data": {
            "text/plain": "array([[19,  0,  0],\n       [ 0, 15,  0],\n       [ 0,  0, 16]])"
          },
          "metadata": {}
        }
      ]
    },
    {
      "metadata": {
        "trusted": true,
        "collapsed": true,
        "_uuid": "e7718a708fbcd5cc15cc69b93bfd56eb55270202"
      },
      "cell_type": "code",
      "source": "",
      "execution_count": null,
      "outputs": []
    }
  ],
  "metadata": {
    "kernelspec": {
      "display_name": "Python 3",
      "language": "python",
      "name": "python3"
    },
    "language_info": {
      "name": "python",
      "version": "3.6.4",
      "mimetype": "text/x-python",
      "codemirror_mode": {
        "name": "ipython",
        "version": 3
      },
      "pygments_lexer": "ipython3",
      "nbconvert_exporter": "python",
      "file_extension": ".py"
    }
  },
  "nbformat": 4,
  "nbformat_minor": 1
}